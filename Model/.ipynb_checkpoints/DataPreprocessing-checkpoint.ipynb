{
 "cells": [
  {
   "cell_type": "code",
   "execution_count": 2,
   "id": "866fee9a-aeb7-4612-ad3a-b6d08a9ab162",
   "metadata": {},
   "outputs": [],
   "source": [
    "import cv2\n",
    "import matplotlib.pyplot as plt\n",
    "import numpy as np\n",
    "from pathlib import Path"
   ]
  },
  {
   "cell_type": "code",
   "execution_count": 3,
   "id": "7188c29e-a77b-4a1c-a355-e4b8623e3b29",
   "metadata": {},
   "outputs": [
    {
     "name": "stdout",
     "output_type": "stream",
     "text": [
      "/Users/abhishekdubey/Documents/Workspace/MajorProject/Data/Training/Forged/05_forged.mp4\n",
      "Number Of Frames:  583\n",
      "/Users/abhishekdubey/Documents/Workspace/MajorProject/Data/Training/Forged/08_forged.mp4\n",
      "Number Of Frames:  274\n",
      "/Users/abhishekdubey/Documents/Workspace/MajorProject/Data/Training/Forged/07_forged.mp4\n",
      "Number Of Frames:  412\n",
      "/Users/abhishekdubey/Documents/Workspace/MajorProject/Data/Training/Forged/02_forged.mp4\n",
      "Number Of Frames:  329\n",
      "/Users/abhishekdubey/Documents/Workspace/MajorProject/Data/Training/Forged/10_forged.mp4\n",
      "Number Of Frames:  239\n",
      "/Users/abhishekdubey/Documents/Workspace/MajorProject/Data/Training/Forged/01_forged.mp4\n",
      "Number Of Frames:  210\n",
      "/Users/abhishekdubey/Documents/Workspace/MajorProject/Data/Training/Forged/04_forged.mp4\n",
      "Number Of Frames:  319\n",
      "/Users/abhishekdubey/Documents/Workspace/MajorProject/Data/Training/Forged/09_forged.mp4\n",
      "Number Of Frames:  554\n",
      "/Users/abhishekdubey/Documents/Workspace/MajorProject/Data/Training/Forged/03_forged.mp4\n",
      "Number Of Frames:  313\n",
      "/Users/abhishekdubey/Documents/Workspace/MajorProject/Data/Training/Forged/06_forged.mp4\n",
      "Number Of Frames:  262\n",
      "Total Frames in Forged Directory:  3495\n",
      "/Users/abhishekdubey/Documents/Workspace/MajorProject/Data/Training/Original/07_original.mp4\n",
      "Number Of Frames:  412\n",
      "/Users/abhishekdubey/Documents/Workspace/MajorProject/Data/Training/Original/01_original.mp4\n",
      "Number Of Frames:  210\n",
      "/Users/abhishekdubey/Documents/Workspace/MajorProject/Data/Training/Original/06_original.mp4\n",
      "Number Of Frames:  262\n",
      "/Users/abhishekdubey/Documents/Workspace/MajorProject/Data/Training/Original/04_original.mp4\n",
      "Number Of Frames:  319\n",
      "/Users/abhishekdubey/Documents/Workspace/MajorProject/Data/Training/Original/03_original.mp4\n",
      "Number Of Frames:  313\n",
      "/Users/abhishekdubey/Documents/Workspace/MajorProject/Data/Training/Original/10_original.mp4\n",
      "Number Of Frames:  239\n",
      "/Users/abhishekdubey/Documents/Workspace/MajorProject/Data/Training/Original/02_original.mp4\n",
      "Number Of Frames:  329\n",
      "/Users/abhishekdubey/Documents/Workspace/MajorProject/Data/Training/Original/05_original.mp4\n",
      "Number Of Frames:  583\n",
      "/Users/abhishekdubey/Documents/Workspace/MajorProject/Data/Training/Original/08_original.mp4\n",
      "Number Of Frames:  274\n",
      "/Users/abhishekdubey/Documents/Workspace/MajorProject/Data/Training/Original/09_original.mp4\n",
      "Number Of Frames:  554\n",
      "Total Frames in Original Directory:  3495\n"
     ]
    }
   ],
   "source": [
    "forgedPath = Path('/Users/abhishekdubey/Documents/Workspace/MajorProject/Data/Training/Forged')\n",
    "train = []\n",
    "\n",
    "sum1 =0\n",
    "for forgedVids in forgedPath.glob('*.mp4'):\n",
    "    print(str(forgedVids).split('\\\\')[-1])\n",
    "    cap= cv2.VideoCapture(str(forgedVids))\n",
    "    i=0\n",
    "    while(cap.isOpened()):\n",
    "        ret, frame = cap.read()\n",
    "        if ret == False:\n",
    "            break\n",
    "        i+=1\n",
    "        train.append(frame)\n",
    "    sum1 +=i\n",
    "    print(\"Number Of Frames: \",i)\n",
    "    cap.release()\n",
    "    \n",
    "print(\"Total Frames in Forged Directory: \",sum1)\n",
    "originalPath = Path('/Users/abhishekdubey/Documents/Workspace/MajorProject/Data/Training/Original')\n",
    "\n",
    "sum2 = 0\n",
    "for originalVids in originalPath.glob('*.mp4'):\n",
    "    print(str(originalVids).split('\\\\')[-1])\n",
    "    cap= cv2.VideoCapture(str(originalVids))\n",
    "    i=0\n",
    "    while(cap.isOpened()):\n",
    "        ret, frame = cap.read()\n",
    "        if ret == False:\n",
    "            break\n",
    "        i+=1\n",
    "        train.append(frame)\n",
    "    sum2 +=i\n",
    "    print(\"Number Of Frames: \",i)\n",
    "    cap.release()\n",
    "    \n",
    "print(\"Total Frames in Original Directory: \",sum2)"
   ]
  },
  {
   "cell_type": "code",
   "execution_count": 4,
   "id": "0cb3d250-e61a-460f-b84f-79947e989675",
   "metadata": {},
   "outputs": [
    {
     "data": {
      "text/plain": [
       "6990"
      ]
     },
     "execution_count": 4,
     "metadata": {},
     "output_type": "execute_result"
    }
   ],
   "source": [
    "len(train)"
   ]
  },
  {
   "cell_type": "code",
   "execution_count": 5,
   "id": "cad2a034-a7f7-4ad7-8abb-7b854e4f53eb",
   "metadata": {},
   "outputs": [],
   "source": [
    "def isforged(img):\n",
    "    flag =0\n",
    "    for i in range(img.shape[0]):\n",
    "        for j in range(img.shape[1]):\n",
    "            if img[i][j]==1:\n",
    "                flag =1\n",
    "                break\n",
    "                \n",
    "    if flag ==0: return 0\n",
    "    else: return 1"
   ]
  },
  {
   "cell_type": "code",
   "execution_count": 6,
   "id": "1ee2079d-1ad8-41b6-b168-2da4c1013bbf",
   "metadata": {},
   "outputs": [],
   "source": [
    "from scipy.io import loadmat"
   ]
  },
  {
   "cell_type": "code",
   "execution_count": 8,
   "id": "8b88b934-1880-4e70-b72e-d0834cf82996",
   "metadata": {},
   "outputs": [
    {
     "name": "stdout",
     "output_type": "stream",
     "text": [
      "/Users/abhishekdubey/Documents/Workspace/MajorProject/Data/Training/YuvFiles/08_gt.mat\n",
      "Number of Frames:  274\n",
      "/Users/abhishekdubey/Documents/Workspace/MajorProject/Data/Training/YuvFiles/04_gt.mat\n",
      "Number of Frames:  319\n",
      "/Users/abhishekdubey/Documents/Workspace/MajorProject/Data/Training/YuvFiles/06_gt.mat\n",
      "Number of Frames:  262\n",
      "/Users/abhishekdubey/Documents/Workspace/MajorProject/Data/Training/YuvFiles/10_gt.mat\n",
      "Number of Frames:  239\n",
      "/Users/abhishekdubey/Documents/Workspace/MajorProject/Data/Training/YuvFiles/02_gt.mat\n",
      "Number of Frames:  329\n",
      "/Users/abhishekdubey/Documents/Workspace/MajorProject/Data/Training/YuvFiles/09_gt.mat\n",
      "Number of Frames:  554\n",
      "/Users/abhishekdubey/Documents/Workspace/MajorProject/Data/Training/YuvFiles/05_gt.mat\n",
      "Number of Frames:  583\n",
      "/Users/abhishekdubey/Documents/Workspace/MajorProject/Data/Training/YuvFiles/07_gt.mat\n",
      "Number of Frames:  412\n",
      "/Users/abhishekdubey/Documents/Workspace/MajorProject/Data/Training/YuvFiles/03_gt.mat\n",
      "Number of Frames:  313\n",
      "/Users/abhishekdubey/Documents/Workspace/MajorProject/Data/Training/YuvFiles/01_gt.mat\n",
      "Number of Frames:  210\n"
     ]
    }
   ],
   "source": [
    "gt = Path('/Users/abhishekdubey/Documents/Workspace/MajorProject/Data/Training/YuvFiles')\n",
    "\n",
    "labels = []\n",
    "for mats in gt.glob('*.mat'):\n",
    "    print(str(mats).split('\\\\')[-1])\n",
    "    mask = loadmat(str(mats))['GT'].reshape((-1,240,320))\n",
    "    print(\"Number of Frames: \",mask.shape[0])\n",
    "    for i in range(mask.shape[0]):\n",
    "        labels.append(isforged(mask[i]))"
   ]
  },
  {
   "cell_type": "code",
   "execution_count": 9,
   "id": "d208375a-2c0d-4520-af4f-b3e223a79396",
   "metadata": {},
   "outputs": [
    {
     "name": "stdout",
     "output_type": "stream",
     "text": [
      "3495\n"
     ]
    }
   ],
   "source": [
    "print(len(labels))"
   ]
  },
  {
   "cell_type": "code",
   "execution_count": 10,
   "id": "7df78e63-32e1-48d6-9104-99af6ada1b26",
   "metadata": {},
   "outputs": [
    {
     "name": "stdout",
     "output_type": "stream",
     "text": [
      "6990\n"
     ]
    }
   ],
   "source": [
    "for i in range(len(train) - len(labels)):\n",
    "    labels.append(0)\n",
    "\n",
    "print(len(labels))"
   ]
  },
  {
   "cell_type": "code",
   "execution_count": 11,
   "id": "6d003919-4427-4301-a557-25a217c80aaf",
   "metadata": {},
   "outputs": [],
   "source": [
    "import random"
   ]
  },
  {
   "cell_type": "code",
   "execution_count": 12,
   "id": "16ca1625-1493-47a0-8620-30835b253f92",
   "metadata": {},
   "outputs": [],
   "source": [
    "combined = list(zip(train,labels))\n",
    "random.shuffle(combined)\n",
    "\n",
    "train[:],labels[:] = zip(*combined)"
   ]
  },
  {
   "cell_type": "code",
   "execution_count": 13,
   "id": "23c50815-7c06-44f3-8ad0-88071eb2eceb",
   "metadata": {},
   "outputs": [],
   "source": [
    "Xtrain = np.array(train)\n",
    "Ytrain = np.array(labels).astype('float32')"
   ]
  },
  {
   "cell_type": "code",
   "execution_count": 14,
   "id": "e5837075-c464-4d35-b5fe-2706d5ed20ea",
   "metadata": {},
   "outputs": [
    {
     "name": "stdout",
     "output_type": "stream",
     "text": [
      "(6990, 240, 320, 3)\n",
      "(6990,)\n"
     ]
    }
   ],
   "source": [
    "print(Xtrain.shape)\n",
    "print(Ytrain.shape)"
   ]
  },
  {
   "cell_type": "code",
   "execution_count": 15,
   "id": "3c0e359b-83f2-47e3-9696-3c18681bb487",
   "metadata": {},
   "outputs": [
    {
     "name": "stdout",
     "output_type": "stream",
     "text": [
      "0.0\n"
     ]
    }
   ],
   "source": [
    "print(Ytrain[180])"
   ]
  },
  {
   "cell_type": "code",
   "execution_count": 18,
   "id": "10d489b6-58a4-4ae8-b92a-f40eaad2e196",
   "metadata": {},
   "outputs": [],
   "source": [
    "np.save('X_train.npy', Xtrain)\n",
    "np.save('Y_train.npy', Ytrain)"
   ]
  },
  {
   "cell_type": "code",
   "execution_count": null,
   "id": "3338c045-68ec-48c4-aa44-e81e43ffef49",
   "metadata": {},
   "outputs": [],
   "source": []
  }
 ],
 "metadata": {
  "kernelspec": {
   "display_name": "Python 3 (ipykernel)",
   "language": "python",
   "name": "python3"
  },
  "language_info": {
   "codemirror_mode": {
    "name": "ipython",
    "version": 3
   },
   "file_extension": ".py",
   "mimetype": "text/x-python",
   "name": "python",
   "nbconvert_exporter": "python",
   "pygments_lexer": "ipython3",
   "version": "3.10.9"
  }
 },
 "nbformat": 4,
 "nbformat_minor": 5
}
